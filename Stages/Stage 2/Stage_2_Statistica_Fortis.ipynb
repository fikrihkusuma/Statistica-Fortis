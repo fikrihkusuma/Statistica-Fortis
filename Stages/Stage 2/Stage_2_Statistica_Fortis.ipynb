{
 "cells": [
  {
   "cell_type": "markdown",
   "id": "4370f32b-87a9-4227-84a8-8197a3c0a749",
   "metadata": {
    "id": "4370f32b-87a9-4227-84a8-8197a3c0a749"
   },
   "source": [
    "# Tugas Stage 2"
   ]
  },
  {
   "cell_type": "markdown",
   "id": "a5929714-ec36-4f9c-9f39-48189a4f91c1",
   "metadata": {
    "id": "a5929714-ec36-4f9c-9f39-48189a4f91c1"
   },
   "source": [
    "## Kelompok 3 \"Statistica Fortis\""
   ]
  },
  {
   "cell_type": "markdown",
   "id": "4b222675-afea-49a5-83c6-59de7d251608",
   "metadata": {
    "id": "4b222675-afea-49a5-83c6-59de7d251608"
   },
   "source": [
    "Project Manager      : Fikri Hadyan Kusuma <br>\n",
    "Data Scientist       : Faris Ramadhan <br>\n",
    "Business/Data Analyst: Daan Zhafrullah <br>\n",
    "Data Engineer        : Muhammad Ihsan <br>"
   ]
  },
  {
   "cell_type": "markdown",
   "id": "1085c9ef-cd90-424b-8134-a045cd28b4aa",
   "metadata": {
    "id": "1085c9ef-cd90-424b-8134-a045cd28b4aa"
   },
   "source": [
    "## Dataset : HR Analytics Case"
   ]
  },
  {
   "cell_type": "markdown",
   "id": "3bb2e754-c732-4f8c-9ab8-7d84ea6f1405",
   "metadata": {
    "id": "3bb2e754-c732-4f8c-9ab8-7d84ea6f1405"
   },
   "source": [
    "## 1. Descriptive Statistics"
   ]
  },
  {
   "cell_type": "markdown",
   "id": "c84f9d64-48d9-4735-be00-ffe92c8a0555",
   "metadata": {
    "id": "c84f9d64-48d9-4735-be00-ffe92c8a0555"
   },
   "source": [
    "### Import Library"
   ]
  },
  {
   "cell_type": "code",
   "execution_count": null,
   "id": "5c8a8150-be8e-4288-8450-84bf57c915dc",
   "metadata": {
    "id": "5c8a8150-be8e-4288-8450-84bf57c915dc"
   },
   "outputs": [],
   "source": [
    "import numpy as np\n",
    "import pandas as pd\n",
    "import seaborn as sns\n",
    "import matplotlib.pyplot as plt"
   ]
  },
  {
   "cell_type": "markdown",
   "id": "a334a7f1-7695-42b3-9b18-02b4804525c1",
   "metadata": {
    "id": "a334a7f1-7695-42b3-9b18-02b4804525c1"
   },
   "source": [
    "### Load Dataset"
   ]
  },
  {
   "cell_type": "code",
   "execution_count": 4,
   "id": "ed233cf1-ace1-450c-bf3c-faf54be70bc9",
   "metadata": {
    "colab": {
     "base_uri": "https://localhost:8080/",
     "height": 426
    },
    "id": "ed233cf1-ace1-450c-bf3c-faf54be70bc9",
    "outputId": "dc576ca5-166d-456b-de53-a76a74cbacf0"
   },
   "outputs": [
    {
     "ename": "FileNotFoundError",
     "evalue": "[Errno 2] No such file or directory: 'C:\\\\Users\\\\ASUS\\\\Documents\\\\Tugas Kelompok Rakamin\\\\Stage 1\\\\[HR] HR Analytics Case Study 2\\\\employee_survey_data.csv'",
     "output_type": "error",
     "traceback": [
      "\u001b[0;31m---------------------------------------------------------------------------\u001b[0m",
      "\u001b[0;31mFileNotFoundError\u001b[0m                         Traceback (most recent call last)",
      "\u001b[0;32m<ipython-input-4-abfef6f27231>\u001b[0m in \u001b[0;36m<cell line: 1>\u001b[0;34m()\u001b[0m\n\u001b[0;32m----> 1\u001b[0;31m \u001b[0memployee_survey_data\u001b[0m \u001b[0;34m=\u001b[0m \u001b[0mpd\u001b[0m\u001b[0;34m.\u001b[0m\u001b[0mread_csv\u001b[0m\u001b[0;34m(\u001b[0m\u001b[0;34mr\"C:\\Users\\ASUS\\Documents\\Tugas Kelompok Rakamin\\Stage 1\\[HR] HR Analytics Case Study 2\\employee_survey_data.csv\"\u001b[0m\u001b[0;34m)\u001b[0m\u001b[0;34m\u001b[0m\u001b[0;34m\u001b[0m\u001b[0m\n\u001b[0m\u001b[1;32m      2\u001b[0m \u001b[0mgeneral_data\u001b[0m \u001b[0;34m=\u001b[0m \u001b[0mpd\u001b[0m\u001b[0;34m.\u001b[0m\u001b[0mread_csv\u001b[0m\u001b[0;34m(\u001b[0m\u001b[0;34mr\"C:\\Users\\ASUS\\Documents\\Tugas Kelompok Rakamin\\Stage 1\\[HR] HR Analytics Case Study 2\\general_data.csv\"\u001b[0m\u001b[0;34m)\u001b[0m\u001b[0;34m\u001b[0m\u001b[0;34m\u001b[0m\u001b[0m\n\u001b[1;32m      3\u001b[0m \u001b[0mmanager_survey_data\u001b[0m \u001b[0;34m=\u001b[0m \u001b[0mpd\u001b[0m\u001b[0;34m.\u001b[0m\u001b[0mread_csv\u001b[0m\u001b[0;34m(\u001b[0m\u001b[0;34mr\"C:\\Users\\ASUS\\Documents\\Tugas Kelompok Rakamin\\Stage 1\\[HR] HR Analytics Case Study 2\\manager_survey_data.csv\"\u001b[0m\u001b[0;34m)\u001b[0m\u001b[0;34m\u001b[0m\u001b[0;34m\u001b[0m\u001b[0m\n\u001b[1;32m      4\u001b[0m \u001b[0min_time\u001b[0m \u001b[0;34m=\u001b[0m \u001b[0mpd\u001b[0m\u001b[0;34m.\u001b[0m\u001b[0mread_csv\u001b[0m\u001b[0;34m(\u001b[0m\u001b[0;34mr\"C:\\Users\\ASUS\\Documents\\Tugas Kelompok Rakamin\\Stage 1\\[HR] HR Analytics Case Study 2\\in_time.csv\"\u001b[0m\u001b[0;34m)\u001b[0m\u001b[0;34m\u001b[0m\u001b[0;34m\u001b[0m\u001b[0m\n\u001b[1;32m      5\u001b[0m \u001b[0mout_time\u001b[0m \u001b[0;34m=\u001b[0m \u001b[0mpd\u001b[0m\u001b[0;34m.\u001b[0m\u001b[0mread_csv\u001b[0m\u001b[0;34m(\u001b[0m\u001b[0;34mr\"C:\\Users\\ASUS\\Documents\\Tugas Kelompok Rakamin\\Stage 1\\[HR] HR Analytics Case Study 2\\out_time.csv\"\u001b[0m\u001b[0;34m)\u001b[0m\u001b[0;34m\u001b[0m\u001b[0;34m\u001b[0m\u001b[0m\n",
      "\u001b[0;32m/usr/local/lib/python3.10/dist-packages/pandas/io/parsers/readers.py\u001b[0m in \u001b[0;36mread_csv\u001b[0;34m(filepath_or_buffer, sep, delimiter, header, names, index_col, usecols, dtype, engine, converters, true_values, false_values, skipinitialspace, skiprows, skipfooter, nrows, na_values, keep_default_na, na_filter, verbose, skip_blank_lines, parse_dates, infer_datetime_format, keep_date_col, date_parser, date_format, dayfirst, cache_dates, iterator, chunksize, compression, thousands, decimal, lineterminator, quotechar, quoting, doublequote, escapechar, comment, encoding, encoding_errors, dialect, on_bad_lines, delim_whitespace, low_memory, memory_map, float_precision, storage_options, dtype_backend)\u001b[0m\n\u001b[1;32m   1024\u001b[0m     \u001b[0mkwds\u001b[0m\u001b[0;34m.\u001b[0m\u001b[0mupdate\u001b[0m\u001b[0;34m(\u001b[0m\u001b[0mkwds_defaults\u001b[0m\u001b[0;34m)\u001b[0m\u001b[0;34m\u001b[0m\u001b[0;34m\u001b[0m\u001b[0m\n\u001b[1;32m   1025\u001b[0m \u001b[0;34m\u001b[0m\u001b[0m\n\u001b[0;32m-> 1026\u001b[0;31m     \u001b[0;32mreturn\u001b[0m \u001b[0m_read\u001b[0m\u001b[0;34m(\u001b[0m\u001b[0mfilepath_or_buffer\u001b[0m\u001b[0;34m,\u001b[0m \u001b[0mkwds\u001b[0m\u001b[0;34m)\u001b[0m\u001b[0;34m\u001b[0m\u001b[0;34m\u001b[0m\u001b[0m\n\u001b[0m\u001b[1;32m   1027\u001b[0m \u001b[0;34m\u001b[0m\u001b[0m\n\u001b[1;32m   1028\u001b[0m \u001b[0;34m\u001b[0m\u001b[0m\n",
      "\u001b[0;32m/usr/local/lib/python3.10/dist-packages/pandas/io/parsers/readers.py\u001b[0m in \u001b[0;36m_read\u001b[0;34m(filepath_or_buffer, kwds)\u001b[0m\n\u001b[1;32m    618\u001b[0m \u001b[0;34m\u001b[0m\u001b[0m\n\u001b[1;32m    619\u001b[0m     \u001b[0;31m# Create the parser.\u001b[0m\u001b[0;34m\u001b[0m\u001b[0;34m\u001b[0m\u001b[0m\n\u001b[0;32m--> 620\u001b[0;31m     \u001b[0mparser\u001b[0m \u001b[0;34m=\u001b[0m \u001b[0mTextFileReader\u001b[0m\u001b[0;34m(\u001b[0m\u001b[0mfilepath_or_buffer\u001b[0m\u001b[0;34m,\u001b[0m \u001b[0;34m**\u001b[0m\u001b[0mkwds\u001b[0m\u001b[0;34m)\u001b[0m\u001b[0;34m\u001b[0m\u001b[0;34m\u001b[0m\u001b[0m\n\u001b[0m\u001b[1;32m    621\u001b[0m \u001b[0;34m\u001b[0m\u001b[0m\n\u001b[1;32m    622\u001b[0m     \u001b[0;32mif\u001b[0m \u001b[0mchunksize\u001b[0m \u001b[0;32mor\u001b[0m \u001b[0miterator\u001b[0m\u001b[0;34m:\u001b[0m\u001b[0;34m\u001b[0m\u001b[0;34m\u001b[0m\u001b[0m\n",
      "\u001b[0;32m/usr/local/lib/python3.10/dist-packages/pandas/io/parsers/readers.py\u001b[0m in \u001b[0;36m__init__\u001b[0;34m(self, f, engine, **kwds)\u001b[0m\n\u001b[1;32m   1618\u001b[0m \u001b[0;34m\u001b[0m\u001b[0m\n\u001b[1;32m   1619\u001b[0m         \u001b[0mself\u001b[0m\u001b[0;34m.\u001b[0m\u001b[0mhandles\u001b[0m\u001b[0;34m:\u001b[0m \u001b[0mIOHandles\u001b[0m \u001b[0;34m|\u001b[0m \u001b[0;32mNone\u001b[0m \u001b[0;34m=\u001b[0m \u001b[0;32mNone\u001b[0m\u001b[0;34m\u001b[0m\u001b[0;34m\u001b[0m\u001b[0m\n\u001b[0;32m-> 1620\u001b[0;31m         \u001b[0mself\u001b[0m\u001b[0;34m.\u001b[0m\u001b[0m_engine\u001b[0m \u001b[0;34m=\u001b[0m \u001b[0mself\u001b[0m\u001b[0;34m.\u001b[0m\u001b[0m_make_engine\u001b[0m\u001b[0;34m(\u001b[0m\u001b[0mf\u001b[0m\u001b[0;34m,\u001b[0m \u001b[0mself\u001b[0m\u001b[0;34m.\u001b[0m\u001b[0mengine\u001b[0m\u001b[0;34m)\u001b[0m\u001b[0;34m\u001b[0m\u001b[0;34m\u001b[0m\u001b[0m\n\u001b[0m\u001b[1;32m   1621\u001b[0m \u001b[0;34m\u001b[0m\u001b[0m\n\u001b[1;32m   1622\u001b[0m     \u001b[0;32mdef\u001b[0m \u001b[0mclose\u001b[0m\u001b[0;34m(\u001b[0m\u001b[0mself\u001b[0m\u001b[0;34m)\u001b[0m \u001b[0;34m->\u001b[0m \u001b[0;32mNone\u001b[0m\u001b[0;34m:\u001b[0m\u001b[0;34m\u001b[0m\u001b[0;34m\u001b[0m\u001b[0m\n",
      "\u001b[0;32m/usr/local/lib/python3.10/dist-packages/pandas/io/parsers/readers.py\u001b[0m in \u001b[0;36m_make_engine\u001b[0;34m(self, f, engine)\u001b[0m\n\u001b[1;32m   1878\u001b[0m                 \u001b[0;32mif\u001b[0m \u001b[0;34m\"b\"\u001b[0m \u001b[0;32mnot\u001b[0m \u001b[0;32min\u001b[0m \u001b[0mmode\u001b[0m\u001b[0;34m:\u001b[0m\u001b[0;34m\u001b[0m\u001b[0;34m\u001b[0m\u001b[0m\n\u001b[1;32m   1879\u001b[0m                     \u001b[0mmode\u001b[0m \u001b[0;34m+=\u001b[0m \u001b[0;34m\"b\"\u001b[0m\u001b[0;34m\u001b[0m\u001b[0;34m\u001b[0m\u001b[0m\n\u001b[0;32m-> 1880\u001b[0;31m             self.handles = get_handle(\n\u001b[0m\u001b[1;32m   1881\u001b[0m                 \u001b[0mf\u001b[0m\u001b[0;34m,\u001b[0m\u001b[0;34m\u001b[0m\u001b[0;34m\u001b[0m\u001b[0m\n\u001b[1;32m   1882\u001b[0m                 \u001b[0mmode\u001b[0m\u001b[0;34m,\u001b[0m\u001b[0;34m\u001b[0m\u001b[0;34m\u001b[0m\u001b[0m\n",
      "\u001b[0;32m/usr/local/lib/python3.10/dist-packages/pandas/io/common.py\u001b[0m in \u001b[0;36mget_handle\u001b[0;34m(path_or_buf, mode, encoding, compression, memory_map, is_text, errors, storage_options)\u001b[0m\n\u001b[1;32m    871\u001b[0m         \u001b[0;32mif\u001b[0m \u001b[0mioargs\u001b[0m\u001b[0;34m.\u001b[0m\u001b[0mencoding\u001b[0m \u001b[0;32mand\u001b[0m \u001b[0;34m\"b\"\u001b[0m \u001b[0;32mnot\u001b[0m \u001b[0;32min\u001b[0m \u001b[0mioargs\u001b[0m\u001b[0;34m.\u001b[0m\u001b[0mmode\u001b[0m\u001b[0;34m:\u001b[0m\u001b[0;34m\u001b[0m\u001b[0;34m\u001b[0m\u001b[0m\n\u001b[1;32m    872\u001b[0m             \u001b[0;31m# Encoding\u001b[0m\u001b[0;34m\u001b[0m\u001b[0;34m\u001b[0m\u001b[0m\n\u001b[0;32m--> 873\u001b[0;31m             handle = open(\n\u001b[0m\u001b[1;32m    874\u001b[0m                 \u001b[0mhandle\u001b[0m\u001b[0;34m,\u001b[0m\u001b[0;34m\u001b[0m\u001b[0;34m\u001b[0m\u001b[0m\n\u001b[1;32m    875\u001b[0m                 \u001b[0mioargs\u001b[0m\u001b[0;34m.\u001b[0m\u001b[0mmode\u001b[0m\u001b[0;34m,\u001b[0m\u001b[0;34m\u001b[0m\u001b[0;34m\u001b[0m\u001b[0m\n",
      "\u001b[0;31mFileNotFoundError\u001b[0m: [Errno 2] No such file or directory: 'C:\\\\Users\\\\ASUS\\\\Documents\\\\Tugas Kelompok Rakamin\\\\Stage 1\\\\[HR] HR Analytics Case Study 2\\\\employee_survey_data.csv'"
     ]
    }
   ],
   "source": [
    "employee_survey_data = pd.read_csv(r\"C:\\Users\\ASUS\\Documents\\Tugas Kelompok Rakamin\\Stage 1\\[HR] HR Analytics Case Study 2\\employee_survey_data.csv\")\n",
    "general_data = pd.read_csv(r\"C:\\Users\\ASUS\\Documents\\Tugas Kelompok Rakamin\\Stage 1\\[HR] HR Analytics Case Study 2\\general_data.csv\")\n",
    "manager_survey_data = pd.read_csv(r\"C:\\Users\\ASUS\\Documents\\Tugas Kelompok Rakamin\\Stage 1\\[HR] HR Analytics Case Study 2\\manager_survey_data.csv\")\n",
    "in_time = pd.read_csv(r\"C:\\Users\\ASUS\\Documents\\Tugas Kelompok Rakamin\\Stage 1\\[HR] HR Analytics Case Study 2\\in_time.csv\")\n",
    "out_time = pd.read_csv(r\"C:\\Users\\ASUS\\Documents\\Tugas Kelompok Rakamin\\Stage 1\\[HR] HR Analytics Case Study 2\\out_time.csv\")"
   ]
  },
  {
   "cell_type": "code",
   "execution_count": null,
   "id": "d511a4f3-fe92-4c0c-bade-1828d3315e53",
   "metadata": {
    "colab": {
     "base_uri": "https://localhost:8080/",
     "height": 141
    },
    "id": "d511a4f3-fe92-4c0c-bade-1828d3315e53",
    "outputId": "740ca163-40f8-425f-d418-b21a5d6aaee5"
   },
   "outputs": [
    {
     "ename": "NameError",
     "evalue": "name 'employee_survey_data' is not defined",
     "output_type": "error",
     "traceback": [
      "\u001b[0;31m---------------------------------------------------------------------------\u001b[0m",
      "\u001b[0;31mNameError\u001b[0m                                 Traceback (most recent call last)",
      "\u001b[0;32m<ipython-input-1-d5dd65afb404>\u001b[0m in \u001b[0;36m<cell line: 1>\u001b[0;34m()\u001b[0m\n\u001b[0;32m----> 1\u001b[0;31m \u001b[0memployee_survey_data\u001b[0m\u001b[0;34m.\u001b[0m\u001b[0mhead\u001b[0m\u001b[0;34m(\u001b[0m\u001b[0;34m)\u001b[0m\u001b[0;34m\u001b[0m\u001b[0;34m\u001b[0m\u001b[0m\n\u001b[0m",
      "\u001b[0;31mNameError\u001b[0m: name 'employee_survey_data' is not defined"
     ]
    }
   ],
   "source": [
    "employee_survey_data.head()"
   ]
  },
  {
   "cell_type": "code",
   "execution_count": null,
   "id": "967afb8f-ecd6-4948-970e-c264355fe7bb",
   "metadata": {
    "id": "967afb8f-ecd6-4948-970e-c264355fe7bb"
   },
   "outputs": [],
   "source": [
    "general_data.head()"
   ]
  },
  {
   "cell_type": "code",
   "execution_count": null,
   "id": "836e4485-9a11-44b6-a0d6-61539d0ecec8",
   "metadata": {
    "id": "836e4485-9a11-44b6-a0d6-61539d0ecec8"
   },
   "outputs": [],
   "source": [
    "manager_survey_data.head()"
   ]
  },
  {
   "cell_type": "markdown",
   "id": "0538de90-6b00-417f-bb42-05a49f8cf199",
   "metadata": {
    "id": "0538de90-6b00-417f-bb42-05a49f8cf199"
   },
   "source": [
    "### Buang Fitur"
   ]
  },
  {
   "cell_type": "code",
   "execution_count": null,
   "id": "06f8739f-41a5-487b-8929-28936aecf40e",
   "metadata": {
    "id": "06f8739f-41a5-487b-8929-28936aecf40e"
   },
   "outputs": [],
   "source": [
    "general_data.drop(columns=['EmployeeCount', 'StandardHours', 'Over18'], inplace=True)"
   ]
  },
  {
   "cell_type": "markdown",
   "id": "3dc5d4f7-a64d-4e40-8cf4-311878d37457",
   "metadata": {
    "id": "3dc5d4f7-a64d-4e40-8cf4-311878d37457"
   },
   "source": [
    "### Periksa Missing Value"
   ]
  },
  {
   "cell_type": "code",
   "execution_count": null,
   "id": "af5348bd-dc53-4e40-9764-51634d700e54",
   "metadata": {
    "id": "af5348bd-dc53-4e40-9764-51634d700e54"
   },
   "outputs": [],
   "source": [
    "employee_survey_data.isnull().sum()"
   ]
  },
  {
   "cell_type": "code",
   "execution_count": null,
   "id": "856b4b05-84fc-42b5-862e-2826ea8287af",
   "metadata": {
    "id": "856b4b05-84fc-42b5-862e-2826ea8287af"
   },
   "outputs": [],
   "source": [
    "general_data.isnull().sum()"
   ]
  },
  {
   "cell_type": "code",
   "execution_count": null,
   "id": "8e9755cb-d77a-48d1-84c1-c16c16f2e9ac",
   "metadata": {
    "id": "8e9755cb-d77a-48d1-84c1-c16c16f2e9ac"
   },
   "outputs": [],
   "source": [
    "manager_survey_data.isnull().sum()"
   ]
  },
  {
   "cell_type": "markdown",
   "id": "52a5a34f-4a5f-4125-ab81-5a074bf822b6",
   "metadata": {
    "id": "52a5a34f-4a5f-4125-ab81-5a074bf822b6"
   },
   "source": [
    "Fitur - fitur yang terdapat missing value yaitu : <br>\n",
    "EnvironmentSatisfaction    25 <br>\n",
    "JobSatisfaction            20 <br>\n",
    "WorkLifeBalance            38 <br>\n",
    "NumCompaniesWorked         19 <br>\n",
    "TotalWorkingYears           9 <br>"
   ]
  },
  {
   "cell_type": "markdown",
   "id": "bd75762d-e0ff-48f8-bc3d-e2956b861e27",
   "metadata": {
    "id": "bd75762d-e0ff-48f8-bc3d-e2956b861e27"
   },
   "source": [
    "### Menangani Missing Value"
   ]
  },
  {
   "cell_type": "markdown",
   "id": "5ed0c1de-3066-4735-9e23-7d3de98d1770",
   "metadata": {
    "id": "5ed0c1de-3066-4735-9e23-7d3de98d1770"
   },
   "source": [
    "Visualisasi Fitur - Fitur yang memiliki missing value"
   ]
  },
  {
   "cell_type": "code",
   "execution_count": null,
   "id": "dce16770-d0c7-47e0-a067-8f13ee6cbc26",
   "metadata": {
    "id": "dce16770-d0c7-47e0-a067-8f13ee6cbc26"
   },
   "outputs": [],
   "source": [
    "fig, axs = plt.subplots(3, 2, figsize=(12, 16))\n",
    "features_employee_survey_with_missing_value = [\"EnvironmentSatisfaction\", \"JobSatisfaction\", \"WorkLifeBalance\"]\n",
    "for i, feature in enumerate(features_employee_survey_with_missing_value):\n",
    "    # Histogram\n",
    "    sns.histplot(employee_survey_data[feature], ax=axs[i // 2, i % 2], bins=10)\n",
    "    axs[i // 2, i % 2].set_title(f'Histogram of {feature}')\n",
    "    axs[i // 2, i % 2].set_xlabel(feature)\n",
    "    axs[i // 2, i % 2].set_ylabel('Frequency')\n",
    "    frequency_counts = employee_survey_data[feature].value_counts().sort_index()\n",
    "    freq_text = \"\\n\".join([f\"{val}: {count}\" for val, count in frequency_counts.items()])\n",
    "    axs[i // 2, i % 2].text(1.05, 0.5, freq_text, transform=axs[i // 2, i % 2].transAxes,\n",
    "                              fontsize=10, verticalalignment='center', bbox=dict(boxstyle='round', alpha=0.1))\n",
    "\n",
    "features_general_data_with_missing_value = [\"NumCompaniesWorked\", \"TotalWorkingYears\"]\n",
    "for i, feature in enumerate(features_general_data_with_missing_value):\n",
    "    # Histogram\n",
    "    sns.histplot(general_data[feature], ax=axs[(i + 3) // 2, (i + 3) % 2], bins=10)\n",
    "    axs[(i + 3) // 2, (i + 3) % 2].set_title(f'Histogram of {feature}')\n",
    "    axs[(i + 3) // 2, (i + 3) % 2].set_xlabel(feature)\n",
    "    axs[(i + 3) // 2, (i + 3) % 2].set_ylabel('Frequency')\n",
    "    frequency_counts = general_data[feature].value_counts().sort_index()\n",
    "    freq_text = \"\\n\".join([f\"{val}: {count}\" for val, count in frequency_counts.items()])\n",
    "    axs[(i + 3) // 2, (i + 3) % 2].text(1.05, 0.5, freq_text, transform=axs[(i + 3) // 2, (i + 3) % 2].transAxes,\n",
    "                                            fontsize=10, verticalalignment='center', bbox=dict(boxstyle='round', alpha=0.1))\n",
    "axs[2, 1].axis('off')\n",
    "plt.tight_layout()\n",
    "plt.show()"
   ]
  },
  {
   "cell_type": "code",
   "execution_count": null,
   "id": "c20f3ce0-2ce7-4594-89a2-154dee9eb0d3",
   "metadata": {
    "id": "c20f3ce0-2ce7-4594-89a2-154dee9eb0d3"
   },
   "outputs": [],
   "source": [
    "employee_survey_data[\"EnvironmentSatisfaction\"] = employee_survey_data[\"EnvironmentSatisfaction\"].fillna(employee_survey_data['EnvironmentSatisfaction'].mode()[0])\n",
    "employee_survey_data[\"JobSatisfaction\"] = employee_survey_data[\"JobSatisfaction\"].fillna(employee_survey_data['JobSatisfaction'].mode()[0])\n",
    "employee_survey_data[\"WorkLifeBalance\"] = employee_survey_data[\"WorkLifeBalance\"].fillna(employee_survey_data['WorkLifeBalance'].mode()[0])\n",
    "general_data[\"NumCompaniesWorked\"] = general_data[\"NumCompaniesWorked\"].fillna(general_data['NumCompaniesWorked'].median())\n",
    "general_data[\"TotalWorkingYears\"] = general_data[\"TotalWorkingYears\"].fillna(general_data['TotalWorkingYears'].median())"
   ]
  },
  {
   "cell_type": "markdown",
   "id": "72f308c0-85b7-48b9-a5cb-3689a6bd929d",
   "metadata": {
    "id": "72f308c0-85b7-48b9-a5cb-3689a6bd929d"
   },
   "source": [
    "Missing value pada fitur EnvironmentSatisfaction, JobSatisfaction, dan WorkLifeBalance dapat ditangani dengan mengisi menggunakan nilai modus, karena data bersifat kategorikal. Sedangkan untuk fitur NumCompaniesWorked dan TotalWorkingYears, missing value dapat ditangani dengan mengisi menggunakan nilai median karena berdasarkan visualisasi histogram, distribusi data cenderung tidak normal dan untuk menghindari pengaruh outlier."
   ]
  },
  {
   "cell_type": "markdown",
   "id": "f30f20a8-39d8-4ae2-bd49-36dcb907a626",
   "metadata": {
    "id": "f30f20a8-39d8-4ae2-bd49-36dcb907a626"
   },
   "source": [
    "### Periksa Data Duplikat"
   ]
  },
  {
   "cell_type": "code",
   "execution_count": null,
   "id": "3a38b486-d73b-4348-9b04-3e26d94c47f7",
   "metadata": {
    "id": "3a38b486-d73b-4348-9b04-3e26d94c47f7"
   },
   "outputs": [],
   "source": [
    "employee_survey_data.duplicated().sum()"
   ]
  },
  {
   "cell_type": "code",
   "execution_count": null,
   "id": "ea674c53-325d-4019-9fa6-53bc9c66e111",
   "metadata": {
    "id": "ea674c53-325d-4019-9fa6-53bc9c66e111"
   },
   "outputs": [],
   "source": [
    "general_data.duplicated().sum()"
   ]
  },
  {
   "cell_type": "code",
   "execution_count": null,
   "id": "b2a177d3-8b3c-41c1-a70c-9446924e7a3d",
   "metadata": {
    "id": "b2a177d3-8b3c-41c1-a70c-9446924e7a3d"
   },
   "outputs": [],
   "source": [
    "manager_survey_data.duplicated().sum()"
   ]
  },
  {
   "cell_type": "markdown",
   "id": "87efe48f-017e-40f1-a721-a17904da7e7a",
   "metadata": {
    "id": "87efe48f-017e-40f1-a721-a17904da7e7a"
   },
   "source": [
    "Dataset tidak memiliki data yang duplikat"
   ]
  },
  {
   "cell_type": "markdown",
   "id": "uashgd7OgDl3",
   "metadata": {
    "id": "uashgd7OgDl3"
   },
   "source": []
  },
  {
   "cell_type": "markdown",
   "id": "6eb264f7-08e6-4168-b1bd-f1533cc20b7a",
   "metadata": {
    "id": "6eb264f7-08e6-4168-b1bd-f1533cc20b7a"
   },
   "source": [
    "### Transformasi Data"
   ]
  },
  {
   "cell_type": "markdown",
   "id": "581feb50-0046-456e-8a04-a5537a748e5b",
   "metadata": {
    "id": "581feb50-0046-456e-8a04-a5537a748e5b"
   },
   "source": [
    "One Hot Encoding"
   ]
  },
  {
   "cell_type": "code",
   "execution_count": null,
   "id": "9832de7e-b190-4a28-87b0-c48b3985734f",
   "metadata": {
    "id": "9832de7e-b190-4a28-87b0-c48b3985734f"
   },
   "outputs": [],
   "source": [
    "from sklearn.preprocessing import OneHotEncoder\n",
    "categorical_features = [\n",
    "    'Attrition',\n",
    "    'BusinessTravel',\n",
    "    'Department',\n",
    "    'EducationField',\n",
    "    'Gender',\n",
    "    'JobRole',\n",
    "    'MaritalStatus'\n",
    "]\n",
    "\n",
    "encoder = OneHotEncoder(drop='first', sparse_output=False)  # drop='first' menghindari dummy variable trap\n",
    "encoded_data = encoder.fit_transform(general_data[categorical_features])\n",
    "encoded_df = pd.DataFrame(encoded_data, columns=encoder.get_feature_names_out(categorical_features))\n",
    "general_data_encoded = pd.concat([general_data.drop(columns=categorical_features), encoded_df], axis=1)\n",
    "general_data_encoded.head()"
   ]
  },
  {
   "cell_type": "code",
   "execution_count": null,
   "id": "6eaf2d3e-9561-4086-9cea-924220fd4e34",
   "metadata": {
    "id": "6eaf2d3e-9561-4086-9cea-924220fd4e34"
   },
   "outputs": [],
   "source": [
    "merged_data_1 = pd.merge(general_data_encoded, employee_survey_data, on='EmployeeID', how='inner')\n",
    "\n",
    "merged_data = pd.merge(merged_data_1, manager_survey_data, on='EmployeeID', how='inner')\n",
    "\n",
    "merged_data.to_csv('merged_data.csv', index=False)\n",
    "print(\"Dataset berhasil digabungkan dan disimpan sebagai 'merged_data.csv'\")\n"
   ]
  },
  {
   "cell_type": "markdown",
   "id": "17584b17-363d-4cbe-9c7b-14a8253e3d90",
   "metadata": {
    "id": "17584b17-363d-4cbe-9c7b-14a8253e3d90"
   },
   "source": [
    "### Load Merged Data"
   ]
  },
  {
   "cell_type": "code",
   "execution_count": null,
   "id": "993252aa-a076-44c1-a004-fe8e5a94b4cb",
   "metadata": {
    "id": "993252aa-a076-44c1-a004-fe8e5a94b4cb"
   },
   "outputs": [],
   "source": [
    "merged_data = pd.read_csv(r\"C:\\Users\\ASUS\\Documents\\Tugas Kelompok Rakamin\\Stage 1\\merged_data.csv\")"
   ]
  },
  {
   "cell_type": "markdown",
   "id": "33df706d-5958-4206-a14a-d07a4f41f542",
   "metadata": {
    "id": "33df706d-5958-4206-a14a-d07a4f41f542"
   },
   "source": [
    "# Load Data"
   ]
  },
  {
   "cell_type": "code",
   "execution_count": null,
   "id": "c4839e15-e13f-487e-b158-d2ed1324b897",
   "metadata": {
    "id": "c4839e15-e13f-487e-b158-d2ed1324b897"
   },
   "outputs": [],
   "source": [
    "merged_data = pd.read_csv(r\"C:\\Users\\ASUS\\Documents\\Tugas Kelompok Rakamin\\Stage 1\\merged_data.csv\")"
   ]
  },
  {
   "cell_type": "code",
   "execution_count": null,
   "id": "0f3b9b0f-7e4b-481d-ad60-28592095235f",
   "metadata": {
    "id": "0f3b9b0f-7e4b-481d-ad60-28592095235f"
   },
   "outputs": [],
   "source": [
    "merged_data.head(5)"
   ]
  },
  {
   "cell_type": "markdown",
   "id": "362c506d-2b78-41ed-a0cc-cf5262c3a9b0",
   "metadata": {
    "id": "362c506d-2b78-41ed-a0cc-cf5262c3a9b0"
   },
   "source": [
    "# Menambah Fitur Baru"
   ]
  },
  {
   "cell_type": "markdown",
   "id": "4ef690ea-1acd-4f67-a2e7-981a26587d75",
   "metadata": {
    "id": "4ef690ea-1acd-4f67-a2e7-981a26587d75"
   },
   "source": [
    "### 1. Manager Relationship Score"
   ]
  },
  {
   "cell_type": "code",
   "execution_count": null,
   "id": "f2689207-a70d-4bf2-a31d-d63c58761c3c",
   "metadata": {
    "id": "f2689207-a70d-4bf2-a31d-d63c58761c3c"
   },
   "outputs": [],
   "source": [
    "# merged_data['ManagerRelationshipScore'] = merged_data['YearsWithCurrManager'] / merged_data['YearsAtCompany']"
   ]
  },
  {
   "cell_type": "markdown",
   "id": "298fa2f5-4a72-4ff3-810e-0c8bf0588def",
   "metadata": {
    "id": "298fa2f5-4a72-4ff3-810e-0c8bf0588def"
   },
   "source": [
    "### 2. Pay Progression"
   ]
  },
  {
   "cell_type": "code",
   "execution_count": null,
   "id": "d1257214-25ad-49b6-9526-f7069c2c0195",
   "metadata": {
    "id": "d1257214-25ad-49b6-9526-f7069c2c0195"
   },
   "outputs": [],
   "source": [
    "# merged_data['PayProgression'] = merged_data['MonthlyIncome'] / (merged_data['TotalWorkingYears'].replace(0, np.nan))"
   ]
  },
  {
   "cell_type": "markdown",
   "id": "161d24a8-17c3-4c06-b9f2-3e4c9dc57b5e",
   "metadata": {
    "id": "161d24a8-17c3-4c06-b9f2-3e4c9dc57b5e"
   },
   "source": [
    "### 3. Work-Life Balance Index"
   ]
  },
  {
   "cell_type": "code",
   "execution_count": null,
   "id": "6d4b51dd-004e-40b3-8e5b-92c15c26ab56",
   "metadata": {
    "id": "6d4b51dd-004e-40b3-8e5b-92c15c26ab56"
   },
   "outputs": [],
   "source": [
    "merged_data['WorkLifeBalanceIndex'] = merged_data['WorkLifeBalance'] * merged_data['EnvironmentSatisfaction']"
   ]
  },
  {
   "cell_type": "markdown",
   "id": "d28b53af-8d39-4cdf-8055-ce51d2bc3043",
   "metadata": {
    "id": "d28b53af-8d39-4cdf-8055-ce51d2bc3043"
   },
   "source": [
    "### 4. Tenure Loyalty Index"
   ]
  },
  {
   "cell_type": "code",
   "execution_count": null,
   "id": "8c24e116-8718-4545-9f6a-2f5c935cae03",
   "metadata": {
    "id": "8c24e116-8718-4545-9f6a-2f5c935cae03"
   },
   "outputs": [],
   "source": [
    "# merged_data['TenureLoyaltyIndex'] = merged_data['Tenure'] / (merged_data['TotalWorkingYears'].replace(0, np.nan))"
   ]
  },
  {
   "cell_type": "code",
   "execution_count": null,
   "id": "6f8f0d60-1227-4e22-aaa8-2e6a83bbbd8e",
   "metadata": {
    "id": "6f8f0d60-1227-4e22-aaa8-2e6a83bbbd8e"
   },
   "outputs": [],
   "source": [
    "merged_data.info()"
   ]
  },
  {
   "cell_type": "markdown",
   "id": "705bc290-94e1-4409-a0bf-53822f896381",
   "metadata": {
    "id": "705bc290-94e1-4409-a0bf-53822f896381"
   },
   "source": [
    "# Data Splitting"
   ]
  },
  {
   "cell_type": "code",
   "execution_count": null,
   "id": "d75c1962-5593-4966-acac-b2305e049045",
   "metadata": {
    "id": "d75c1962-5593-4966-acac-b2305e049045"
   },
   "outputs": [],
   "source": [
    "X = merged_data.drop(columns=['JobSatisfaction'])\n",
    "y = merged_data['JobSatisfaction']"
   ]
  },
  {
   "cell_type": "code",
   "execution_count": null,
   "id": "15bd4a09-fb9a-4c7f-99ad-7dbfd30644b6",
   "metadata": {
    "id": "15bd4a09-fb9a-4c7f-99ad-7dbfd30644b6"
   },
   "outputs": [],
   "source": [
    "X.head(5)"
   ]
  },
  {
   "cell_type": "code",
   "execution_count": null,
   "id": "97296765-94ff-484d-9a32-269beb8fb4c7",
   "metadata": {
    "id": "97296765-94ff-484d-9a32-269beb8fb4c7"
   },
   "outputs": [],
   "source": [
    "y.head(5)"
   ]
  },
  {
   "cell_type": "markdown",
   "id": "17ffadad-d1c8-462d-ace7-949582986b97",
   "metadata": {
    "id": "17ffadad-d1c8-462d-ace7-949582986b97"
   },
   "source": [
    "## DataSplitB : Training 80% & Test 20%"
   ]
  },
  {
   "cell_type": "code",
   "execution_count": null,
   "id": "2dc53e81-01c1-42fa-bdc3-262290b3cfd6",
   "metadata": {
    "id": "2dc53e81-01c1-42fa-bdc3-262290b3cfd6"
   },
   "outputs": [],
   "source": [
    "from sklearn.model_selection import train_test_split\n",
    "X_train_DataSplitB, X_test_DataSplitB, y_train_DataSplitB, y_test_DataSplitB = train_test_split(X, y, test_size=0.2, random_state=42)\n",
    "print(\"Jumlah data pada set train DataSplitB:\", X_train_DataSplitB.shape[0])\n",
    "print(\"Jumlah data pada set test DataSplitB:\", X_test_DataSplitB.shape[0])"
   ]
  },
  {
   "cell_type": "markdown",
   "id": "a0d6d587-4b55-41b6-92b2-eae1f9f1dbcf",
   "metadata": {
    "id": "a0d6d587-4b55-41b6-92b2-eae1f9f1dbcf"
   },
   "source": [
    "## Model Decision Tree untuk Mencari Feature Importance"
   ]
  },
  {
   "cell_type": "markdown",
   "id": "83dcde99-42b2-4796-ae37-efeea3d6e5ba",
   "metadata": {
    "id": "83dcde99-42b2-4796-ae37-efeea3d6e5ba"
   },
   "source": [
    "### Belum tahu fitur apa saja yang dipilih"
   ]
  },
  {
   "cell_type": "code",
   "execution_count": null,
   "id": "45712c7c-0947-43c3-920b-52660633459e",
   "metadata": {
    "id": "45712c7c-0947-43c3-920b-52660633459e"
   },
   "outputs": [],
   "source": [
    "import matplotlib.pyplot as plt\n",
    "import pandas as pd\n",
    "import numpy as np\n",
    "from sklearn.tree import DecisionTreeClassifier\n",
    "\n",
    "# Membuat model Decision Tree dengan parameter default\n",
    "model = DecisionTreeClassifier(random_state=42)\n",
    "model.fit(X_train_DataSplitB, y_train_DataSplitB)\n",
    "\n",
    "# Mendapatkan feature importances\n",
    "feature_importance = model.feature_importances_\n",
    "\n",
    "# Jika X adalah DataFrame, gunakan nama kolom; jika tidak, gunakan nomor indeks fitur\n",
    "if isinstance(X, pd.DataFrame):\n",
    "    feature_names = X.columns\n",
    "else:\n",
    "    feature_names = [f\"Feature {i+1}\" for i in range(X.shape[1])]\n",
    "\n",
    "# Membuat DataFrame untuk feature importance\n",
    "importance_df = pd.DataFrame({\n",
    "    \"Feature\": feature_names,\n",
    "    \"Importance\": feature_importance\n",
    "}).sort_values(by=\"Importance\", ascending=False)\n",
    "\n",
    "# Plot feature importance\n",
    "plt.figure(figsize=(10, 6))\n",
    "plt.barh(importance_df[\"Feature\"], importance_df[\"Importance\"], color=\"skyblue\")\n",
    "plt.xlabel(\"Importance\")\n",
    "plt.ylabel(\"Feature\")\n",
    "plt.title(\"Feature Importance\")\n",
    "plt.gca().invert_yaxis()  # Membalik sumbu y untuk urutan yang lebih natural\n",
    "plt.tight_layout()\n",
    "plt.show()\n"
   ]
  },
  {
   "cell_type": "code",
   "execution_count": null,
   "id": "773b2dac-6067-4e78-b461-6f86e572d493",
   "metadata": {
    "id": "773b2dac-6067-4e78-b461-6f86e572d493"
   },
   "outputs": [],
   "source": [
    "print(merged_data.columns)"
   ]
  },
  {
   "cell_type": "markdown",
   "id": "7b509495-ba62-418a-9629-8ecb2443828a",
   "metadata": {
    "id": "7b509495-ba62-418a-9629-8ecb2443828a"
   },
   "source": [
    "# Data Standardization"
   ]
  },
  {
   "cell_type": "markdown",
   "id": "1700b7dc-7c9d-47bc-9a16-55efc1a61fd6",
   "metadata": {
    "id": "1700b7dc-7c9d-47bc-9a16-55efc1a61fd6"
   },
   "source": [
    "### DataSplitB (Training 80%, Testing 20%)"
   ]
  },
  {
   "cell_type": "code",
   "execution_count": null,
   "id": "a2f6ee23-b5da-40da-bbe7-088e96c2b874",
   "metadata": {
    "id": "a2f6ee23-b5da-40da-bbe7-088e96c2b874"
   },
   "outputs": [],
   "source": [
    "from sklearn.preprocessing import StandardScaler\n",
    "scaler = StandardScaler()\n",
    "X_train_DataSplitB_scaled = scaler.fit_transform(X_train_DataSplitB)\n",
    "X_train_DataSplitB_scaled = pd.DataFrame(\n",
    "    X_train_DataSplitB_scaled,\n",
    "    columns=\n",
    "       ['Age', 'DistanceFromHome', 'Education', 'EmployeeID', 'JobLevel',\n",
    "       'MonthlyIncome', 'NumCompaniesWorked', 'PercentSalaryHike',\n",
    "       'StockOptionLevel', 'TotalWorkingYears', 'TrainingTimesLastYear',\n",
    "       'YearsAtCompany', 'YearsSinceLastPromotion', 'YearsWithCurrManager',\n",
    "       'Attrition_Yes', 'BusinessTravel_Travel_Frequently',\n",
    "       'BusinessTravel_Travel_Rarely', 'Department_Research & Development',\n",
    "       'Department_Sales', 'EducationField_Life Sciences',\n",
    "       'EducationField_Marketing', 'EducationField_Medical',\n",
    "       'EducationField_Other', 'EducationField_Technical Degree',\n",
    "       'Gender_Male', 'JobRole_Human Resources',\n",
    "       'JobRole_Laboratory Technician', 'JobRole_Manager',\n",
    "       'JobRole_Manufacturing Director', 'JobRole_Research Director',\n",
    "       'JobRole_Research Scientist', 'JobRole_Sales Executive',\n",
    "       'JobRole_Sales Representative', 'MaritalStatus_Married',\n",
    "       'MaritalStatus_Single', 'EnvironmentSatisfaction',\n",
    "       'WorkLifeBalance', 'JobInvolvement', 'PerformanceRating',\n",
    "       'ManagerRelationshipScore', 'WorkLifeBalanceIndex']\n",
    ")\n",
    "X_test_DataSplitB_scaled = scaler.transform(X_test_DataSplitB)\n",
    "X_test_DataSplitB_scaled = pd.DataFrame(\n",
    "    X_test_DataSplitB_scaled,\n",
    "    columns=\n",
    "       ['Age', 'DistanceFromHome', 'Education', 'EmployeeID', 'JobLevel',\n",
    "       'MonthlyIncome', 'NumCompaniesWorked', 'PercentSalaryHike',\n",
    "       'StockOptionLevel', 'TotalWorkingYears', 'TrainingTimesLastYear',\n",
    "       'YearsAtCompany', 'YearsSinceLastPromotion', 'YearsWithCurrManager',\n",
    "       'Attrition_Yes', 'BusinessTravel_Travel_Frequently',\n",
    "       'BusinessTravel_Travel_Rarely', 'Department_Research & Development',\n",
    "       'Department_Sales', 'EducationField_Life Sciences',\n",
    "       'EducationField_Marketing', 'EducationField_Medical',\n",
    "       'EducationField_Other', 'EducationField_Technical Degree',\n",
    "       'Gender_Male', 'JobRole_Human Resources',\n",
    "       'JobRole_Laboratory Technician', 'JobRole_Manager',\n",
    "       'JobRole_Manufacturing Director', 'JobRole_Research Director',\n",
    "       'JobRole_Research Scientist', 'JobRole_Sales Executive',\n",
    "       'JobRole_Sales Representative', 'MaritalStatus_Married',\n",
    "       'MaritalStatus_Single', 'EnvironmentSatisfaction',\n",
    "       'WorkLifeBalance', 'JobInvolvement', 'PerformanceRating',\n",
    "       'ManagerRelationshipScore', 'WorkLifeBalanceIndex']\n",
    ")"
   ]
  },
  {
   "cell_type": "markdown",
   "id": "ab83c47f-c39f-42a0-818d-5138f4eee6d4",
   "metadata": {
    "id": "ab83c47f-c39f-42a0-818d-5138f4eee6d4"
   },
   "source": [
    "# SMOTE"
   ]
  },
  {
   "cell_type": "markdown",
   "id": "5766f51e-c7f8-4ee4-ac34-26b1de3c25ec",
   "metadata": {
    "id": "5766f51e-c7f8-4ee4-ac34-26b1de3c25ec"
   },
   "source": [
    "### DataSplitB (Training 80%, Testing 20%)"
   ]
  },
  {
   "cell_type": "code",
   "execution_count": null,
   "id": "f38920e8-38cc-48b3-af27-289c34d33950",
   "metadata": {
    "id": "f38920e8-38cc-48b3-af27-289c34d33950"
   },
   "outputs": [],
   "source": [
    "from imblearn.over_sampling import SMOTE\n",
    "import numpy as np\n",
    "\n",
    "# Mengubah label ke dalam array\n",
    "label_kelas = np.array(y_train_DataSplitB)\n",
    "\n",
    "# Menampilkan jumlah data kelas sebelum SMOTE\n",
    "print(\"Jumlah Data Kelas Dari Data Training Pada DataSplitB Sebelum SMOTE:\")\n",
    "for i in range(1, 5):  # Iterasi untuk kelas 1 hingga 4\n",
    "    print(f\"Kelas {i}:\", np.sum(label_kelas == i))\n",
    "\n",
    "# Menggunakan SMOTE untuk menyeimbangkan kelas\n",
    "smote = SMOTE(random_state=42)\n",
    "X_DataSplitB_balanced, y_DataSplitB_balanced = smote.fit_resample(X_train_DataSplitB_scaled, y_train_DataSplitB)\n",
    "\n",
    "# Menampilkan jumlah data kelas setelah SMOTE\n",
    "print(\"\\nJumlah Data Kelas Dari Data Training Pada DataSplitB Setelah SMOTE:\")\n",
    "for i in range(1, 5):  # Iterasi untuk kelas 1 hingga 4\n",
    "    print(f\"Kelas {i}:\", np.sum(y_DataSplitB_balanced == i))\n",
    "\n",
    "# Menampilkan jumlah data sebelum dan sesudah SMOTE\n",
    "print(\"\\nJumlah Data Dari Data Training DataSplitB Sebelum SMOTE:\", len(X_train_DataSplitB_scaled))\n",
    "print(\"Jumlah Data Dari Data Training DataSplitB Setelah SMOTE:\", len(X_DataSplitB_balanced))\n"
   ]
  },
  {
   "cell_type": "markdown",
   "id": "e50d957d-cf0b-42c4-b8b8-17122edff184",
   "metadata": {
    "id": "e50d957d-cf0b-42c4-b8b8-17122edff184"
   },
   "source": [
    "# Model Machine Learning"
   ]
  },
  {
   "cell_type": "markdown",
   "id": "fc27e022-3697-46b5-923b-827332615c1d",
   "metadata": {
    "id": "fc27e022-3697-46b5-923b-827332615c1d"
   },
   "source": [
    "## Decision Tree"
   ]
  },
  {
   "cell_type": "code",
   "execution_count": null,
   "id": "51f9eedf-4b49-41da-b7ac-a23a810cacb2",
   "metadata": {
    "id": "51f9eedf-4b49-41da-b7ac-a23a810cacb2"
   },
   "outputs": [],
   "source": [
    "# Import library\n",
    "import matplotlib.pyplot as plt\n",
    "import seaborn as sns\n",
    "from sklearn.tree import DecisionTreeClassifier\n",
    "from sklearn.metrics import confusion_matrix, precision_score, recall_score, f1_score, classification_report, accuracy_score\n",
    "\n",
    "# Membuat model Decision Tree\n",
    "dt_model = DecisionTreeClassifier(random_state=42)\n",
    "\n",
    "# Melatih model menggunakan data training\n",
    "dt_model.fit(X_DataSplitB_balanced, y_DataSplitB_balanced)\n",
    "\n",
    "# Memprediksi data testing\n",
    "y_pred = dt_model.predict(X_test_DataSplitB_scaled)\n",
    "\n",
    "# Menghitung akurasi\n",
    "accuracy = accuracy_score(y_test_DataSplitB, y_pred)\n",
    "\n",
    "# Menghitung confusion matrix\n",
    "conf_matrix = confusion_matrix(y_test_DataSplitB, y_pred)\n",
    "\n",
    "# Menampilkan confusion matrix menggunakan heatmap\n",
    "plt.figure(figsize=(8, 6))\n",
    "sns.heatmap(conf_matrix, annot=True, cmap='Blues', fmt='g')\n",
    "plt.xlabel('Predicted Labels')\n",
    "plt.ylabel('True Labels')\n",
    "plt.title('Confusion Matrix')\n",
    "plt.show()\n",
    "\n",
    "# Menghitung metrik evaluasi dengan average='weighted' untuk multi-kelas\n",
    "precision = precision_score(y_test_DataSplitB, y_pred, average='weighted')\n",
    "recall = recall_score(y_test_DataSplitB, y_pred, average='weighted')\n",
    "f1 = f1_score(y_test_DataSplitB, y_pred, average='weighted')\n",
    "\n",
    "# Menampilkan hasil evaluasi\n",
    "print(f'Akurasi: {accuracy:.2f}')\n",
    "print(f'Precision (weighted): {precision:.2f}')\n",
    "print(f'Recall (weighted): {recall:.2f}')\n",
    "print(f'F1-score (weighted): {f1:.2f}')\n",
    "\n",
    "# print('\\nLaporan Klasifikasi:')\n",
    "# print(classification_report(y_test_DataSplitA, y_pred))\n"
   ]
  }
 ],
 "metadata": {
  "colab": {
   "provenance": []
  },
  "kernelspec": {
   "display_name": "Python 3 (ipykernel)",
   "language": "python",
   "name": "python3"
  },
  "language_info": {
   "codemirror_mode": {
    "name": "ipython",
    "version": 3
   },
   "file_extension": ".py",
   "mimetype": "text/x-python",
   "name": "python",
   "nbconvert_exporter": "python",
   "pygments_lexer": "ipython3",
   "version": "3.11.8"
  }
 },
 "nbformat": 4,
 "nbformat_minor": 5
}
